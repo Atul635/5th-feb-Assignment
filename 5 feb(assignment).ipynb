{
 "cells": [
  {
   "cell_type": "markdown",
   "id": "6ee9aed3-33de-4ffb-ace0-a1b960578e60",
   "metadata": {},
   "source": [
    "Q1. Explain Class and Object with respect to Object-Oriented Programming. Give a suitable example."
   ]
  },
  {
   "cell_type": "markdown",
   "id": "8c068840-8540-4a75-82a4-3912475abf46",
   "metadata": {},
   "source": [
    "Class- class is a classification of real world entity. or we can say A class is a blueprint for creating objects. it defines the attributes and behaviours that object of that class will have. \n",
    "object- An object is a fundamental data structure representing a real world entity or concept. Everything in python is an object, including numbers, strings,functions and even classes themselves. Objects have attributes(data) and methods(function) associated with them, which can be accessed and manipulated dot notation.\n"
   ]
  },
  {
   "cell_type": "code",
   "execution_count": 2,
   "id": "c398a7e6-0c27-4484-89ab-1eb66b3e6147",
   "metadata": {},
   "outputs": [],
   "source": [
    "class pwskills1:\n",
    "        \n",
    "        def __init__(self ,phone_number, email_id , student_id):\n",
    "            self.phone_number= phone_number\n",
    "            self.email_id = email_id\n",
    "            self.student_id = student_id\n",
    "            \n",
    "        def return_student_details(self) :\n",
    "            return self.student_id ,self.phone_number , self.email_id"
   ]
  },
  {
   "cell_type": "code",
   "execution_count": 6,
   "id": "53828450-9d00-45b0-8e1c-a57a62f6ec3a",
   "metadata": {},
   "outputs": [],
   "source": [
    "atul = pwskills1(1233456,\"atul123@gmail.com\",111)"
   ]
  },
  {
   "cell_type": "code",
   "execution_count": 8,
   "id": "db83baf3-5fe4-4138-a9ef-0c7b899ea1e5",
   "metadata": {},
   "outputs": [
    {
     "data": {
      "text/plain": [
       "(111, 1233456, 'atul123@gmail.com')"
      ]
     },
     "execution_count": 8,
     "metadata": {},
     "output_type": "execute_result"
    }
   ],
   "source": [
    "atul.return_student_details()"
   ]
  },
  {
   "cell_type": "markdown",
   "id": "adc23611-1d23-4088-a7a4-399e708a884b",
   "metadata": {},
   "source": [
    "Q2. Name the four pillars of OOPs."
   ]
  },
  {
   "cell_type": "markdown",
   "id": "64deb53c-cdf8-4d53-8285-ee86194ec0f4",
   "metadata": {},
   "source": [
    "Encapsulation: Encapsulation refers to the bundling of data and methods that operate on that data into a single unit or class. It hides the internal state of an object from the outside world and only exposes the necessary functionalities through methods.\n",
    "Example: Think of a car. A car encapsulates various components such as the engine, transmission, brakes, and so on. These components are hidden from the outside world and interact with each other through well-defined interfaces like the steering wheel, pedals, and gear stick. The driver doesn't need to know the internal workings of the engine to drive the car; they only need to interact with these external interfaces.\n",
    "\n",
    "Abstraction: Abstraction involves hiding the complex implementation details and showing only the necessary features of an object. It allows developers to focus on what an object does rather than how it achieves its functionality.\n",
    "Example: Consider a TV remote control. The remote control abstracts the complexities of the TV's internal circuitry and operations into a simple set of buttons (like power, volume, channel, etc.). Users interact with the remote control without needing to understand the inner workings of the TV.\n",
    "\n",
    "Inheritance: Inheritance allows a class (subclass or derived class) to inherit properties and behaviors (methods) from another class (superclass or base class). This promotes code reusability and helps in creating a hierarchical classification of classes.\n",
    "Example: Think of a class hierarchy for vehicles. At the top level, you might have a generic Vehicle class. Below that, you could have more specific classes like Car, Truck, and Motorcycle. Each of these subclasses inherits common attributes and behaviors from the Vehicle class (like start_engine() or stop_engine()), while also having their own unique features and functionalities\n",
    "\n",
    "Polymorphism: Polymorphism means the ability to take multiple forms. In OOP, polymorphism allows objects of different classes to be treated as objects of a common superclass. It enables a single interface to represent different underlying forms or types. Polymorphism can be achieved through method overriding and method overloading.\n",
    "Example: Consider a Shape class with a method area(). You can have subclasses like Circle, Rectangle, and Triangle, each implementing their own version of the area() method specific to their shape. When you call area() on an object of any of these subclasses, polymorphism ensures that the correct version of area() is executed based on the actual type of the object at runtime. For instance, calling area() on a Circle object would execute the area() method specific to circles."
   ]
  },
  {
   "cell_type": "markdown",
   "id": "8ca35c26-7a1b-4952-b0f9-817ba890a229",
   "metadata": {},
   "source": [
    "Q3. Explain why the __init__() function is used. Give a suitable example."
   ]
  },
  {
   "cell_type": "markdown",
   "id": "7bb7e283-9bdf-4e6b-a10f-1053d6787899",
   "metadata": {},
   "source": [
    "The __init__() function in Python is used as a constructor method for initializing newly created objects. Its primary purpose is to set up the initial state of the object by assigning values to its attributes. When we create a new instance of a class, the __init__() method is automatically called.\n",
    "\n",
    "Here's why the __init__() function is used:\n",
    "\n",
    "Initialization: It allows you to initialize the object's attributes with specific values. This ensures that every object created from the class starts with a consistent initial state.\n",
    "\n",
    "Parameter Passing: It enables the passing of arguments to the object during its instantiation. These arguments can be used to customize the initial state of the object based on the values provided.\n",
    "\n",
    "Setup and Configuration: It provides an opportunity to perform any necessary setup or configuration tasks that need to be done when an object is created.      \n",
    "example-\n"
   ]
  },
  {
   "cell_type": "code",
   "execution_count": null,
   "id": "3e80b099-77ed-468a-9e64-09caf42098ab",
   "metadata": {},
   "outputs": [],
   "source": [
    "class pwskills2:\n",
    "        \n",
    "        def __init__(self ,phone_number, email_id , student_id):\n",
    "            self.phone_number2= phone_number\n",
    "            self.email_id2 = email_id\n",
    "            self.student_id2 = student_id\n",
    "            \n",
    "        def return_student_details(self) :\n",
    "            return self.student_id ,self.phone_number , self.email_id"
   ]
  },
  {
   "cell_type": "markdown",
   "id": "8e669015-b38f-46bc-88b7-ed98bf4c1b7d",
   "metadata": {},
   "source": [
    "Q4. Why self is used in OOPs?"
   ]
  },
  {
   "cell_type": "markdown",
   "id": "507e422b-aa94-4447-afad-bf3f322d31f3",
   "metadata": {},
   "source": [
    "we have to use self to access the data in class(inside the class).\n",
    "self is not a associated keyword. so,we can use any word/letter instead of self."
   ]
  },
  {
   "cell_type": "markdown",
   "id": "0ffb9635-c386-4498-8082-794b3c35169d",
   "metadata": {},
   "source": [
    "Q5. What is inheritance? Give an example for each type of inheritance."
   ]
  },
  {
   "cell_type": "markdown",
   "id": "33c1c5c4-5d5b-48aa-89a6-815e3a36363e",
   "metadata": {},
   "source": [
    "Inheritance: Inheritance allows a class (subclass or derived class) to inherit properties and behaviors (methods) from another class (superclass or base class). This promotes code reusability and helps in creating a hierarchical classification of classes.\n",
    "In Python, we can define inheritance using the following syntax:\n",
    "class SuperClass:\n",
    "    # Superclass attributes and methods\n",
    "\n",
    "class SubClass(SuperClass):\n",
    "    # Subclass inherits from SuperClass and can have its own attributes and methods\n",
    "Types-\n",
    "\n",
    "1.Single Inheritance:\n",
    "In single inheritance, a subclass inherits from only one superclass.\n",
    "ex-\n",
    "class Animal:\n",
    "    def speak(self):\n",
    "        print(\"Animal speaks\")\n",
    "\n",
    "class Dog(Animal):\n",
    "    def bark(self):\n",
    "        print(\"Dog barks\")\n",
    "\n",
    "# Dog inherits from Animal\n",
    "dog = Dog()\n",
    "dog.speak()  # Output: Animal speaks\n",
    "dog.bark()   # Output: Dog barks\n",
    " \n",
    "2.Multiple Inheritance:\n",
    "In multiple inheritance, a subclass inherits from more than one superclass.\n",
    "ex-\n",
    "class Bird:\n",
    "    def fly(self):\n",
    "        print(\"Bird flies\")\n",
    "\n",
    "class Mammal:\n",
    "    def walk(self):\n",
    "        print(\"Mammal walks\")\n",
    "\n",
    "class Bat(Bird, Mammal):\n",
    "    def echo_location(self):\n",
    "        print(\"Bat uses echolocation\")\n",
    "\n",
    "# Bat inherits from both Bird and Mammal\n",
    "bat = Bat()\n",
    "bat.fly()         # Output: Bird flies\n",
    "bat.walk()        # Output: Mammal walks\n",
    "bat.echo_location()  # Output: Bat uses echolocation\n",
    "\n",
    "3.Multilevel Inheritance:\n",
    "In multilevel inheritance, a subclass inherits from another subclass, forming a hierarchy.\n",
    "ex-\n",
    "class Animal:\n",
    "    def speak(self):\n",
    "        print(\"Animal speaks\")\n",
    "\n",
    "class Dog(Animal):\n",
    "    def bark(self):\n",
    "        print(\"Dog barks\")\n",
    "\n",
    "class GoldenRetriever(Dog):\n",
    "    def fetch(self):\n",
    "        print(\"Golden Retriever fetches\")\n",
    "\n",
    "# GoldenRetriever inherits from Dog, which inherits from Animal\n",
    "golden = GoldenRetriever()\n",
    "golden.speak()  # Output: Animal speaks\n",
    "golden.bark()   # Output: Dog barks\n",
    "golden.fetch()  # Output: Golden Retriever fetches\n",
    "\n",
    "4.Hierarchical Inheritance:\n",
    "Multiple subclasses inherit from a single superclass.\n",
    "ex- \n",
    "class Animal:\n",
    "    def speak(self):\n",
    "        print(\"Animal speaks\")\n",
    "\n",
    "class Cat(Animal):\n",
    "    def meow(self):\n",
    "        print(\"Cat meows\")\n",
    "\n",
    "class Dog(Animal):\n",
    "    def bark(self):\n",
    "        print(\"Dog barks\")\n",
    "\n",
    "5.Hybrid (or Virtual) Inheritance:\n",
    "A combination of more than one type of inheritance.\n",
    "ex-\n",
    "class Vehicle:\n",
    "    def drive(self):\n",
    "        print(\"Vehicle is being driven\")\n",
    "\n",
    "class FlyingObject:\n",
    "    def fly(self):\n",
    "        print(\"FlyingObject flies\")\n",
    "\n",
    "class FlyingCar(Vehicle, FlyingObject):\n",
    "    def hover(self):\n",
    "        print(\"FlyingCar hovers\")\n",
    "\n",
    "\n"
   ]
  }
 ],
 "metadata": {
  "kernelspec": {
   "display_name": "Python 3 (ipykernel)",
   "language": "python",
   "name": "python3"
  },
  "language_info": {
   "codemirror_mode": {
    "name": "ipython",
    "version": 3
   },
   "file_extension": ".py",
   "mimetype": "text/x-python",
   "name": "python",
   "nbconvert_exporter": "python",
   "pygments_lexer": "ipython3",
   "version": "3.10.8"
  }
 },
 "nbformat": 4,
 "nbformat_minor": 5
}
